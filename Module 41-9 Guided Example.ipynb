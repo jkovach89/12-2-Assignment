{
 "cells": [
  {
   "cell_type": "code",
   "execution_count": 1,
   "metadata": {},
   "outputs": [],
   "source": [
    "%matplotlib inline\n",
    "import numpy as np, pandas as pd, scipy, matplotlib.pyplot as plt, networkx as nx, spacy\n",
    "from sklearn.feature_extraction.text import TfidfVectorizer"
   ]
  },
  {
   "cell_type": "code",
   "execution_count": 12,
   "metadata": {},
   "outputs": [],
   "source": [
    "# Import gatsby the lazy way\n",
    "gatsby=\"In my younger and more vulnerable years my father gave me some advice that I've been turning over in my mind ever since. \\\"Whenever you feel like criticizing any one,\\\" he told me, \\\"just remember that all the people in this world haven't had the advantages that you've had.\\\" He didn't say any more but we've always been unusually communicative in a reserved way, and I understood that he meant a great deal more than that. In consequence I'm inclined to reserve all judgments, a habit that has opened up many curious natures to me and also made me the victim of not a few veteran bores. The abnormal mind is quick to detect and attach itself to this quality when it appears in a normal person, and so it came about that in college I was unjustly accused of being a politician, because I was privy to the secret griefs of wild, unknown men. Most of the confidences were unsought--frequently I have feigned sleep, preoccupation, or a hostile levity when I realized by some unmistakable sign that an intimate revelation was quivering on the horizon--for the intimate revelations of young men or at least the terms in which they express them are usually plagiaristic and marred by obvious suppressions. Reserving judgments is a matter of infinite hope. I am still a little afraid of missing something if I forget that, as my father snobbishly suggested, and I snobbishly repeat a sense of the fundamental decencies is parcelled out unequally at birth. And, after boasting this way of my tolerance, I come to the admission that it has a limit. Conduct may be founded on the hard rock or the wet marshes but after a certain point I don't care what it's founded on. When I came back from the East last autumn I felt that I wanted the world to be in uniform and at a sort of moral attention forever; I wanted no more riotous excursions with privileged glimpses into the human heart. Only Gatsby, the man who gives his name to this book, was exempt from my reaction--Gatsby who represented everything for which I have an unaffected scorn. If personality is an unbroken series of successful gestures, then there was something gorgeous about him, some heightened sensitivity to the promises of life, as if he were related to one of those intricate machines that register earthquakes ten thousand miles away. This responsiveness had nothing to do with that flabby impressionability which is dignified under the name of the \\\"creative temperament\\\"--it was an extraordinary gift for hope, a romantic readiness such as I have never found in any other person and which it is not likely I shall ever find again. No--Gatsby turned out all right at the end; it is what preyed on Gatsby, what foul dust floated in the wake of his dreams that temporarily closed out my interest in the abortive sorrows and short-winded elations of men.\"\n",
    "\n",
    "parser = spacy.load('en')\n",
    "\n",
    "# Parse Gatsby\n",
    "gatsby = parser(gatsby)\n",
    "\n",
    "# Divide text into sentences and sort list of strings\n",
    "sentences = []\n",
    "for span in gatsby.sents:\n",
    "    sent = ''.join(gatsby[i].string for i in range(span.start, span.end)).strip()\n",
    "    sentences.append(sent)\n",
    "    \n",
    "# Create Tfidf matrix\n",
    "counter = TfidfVectorizer(lowercase=False,\n",
    "                         stop_words=None,\n",
    "                         ngram_range=(1,1),\n",
    "                         analyzer=u'word',\n",
    "                         max_df=0.5,\n",
    "                         min_df=1,\n",
    "                         max_features=None,\n",
    "                         vocabulary=None,\n",
    "                         binary=False)\n",
    "\n",
    "# Apply the vectorizer\n",
    "data_counts = counter.fit_transform(sentences)"
   ]
  },
  {
   "cell_type": "code",
   "execution_count": 13,
   "metadata": {},
   "outputs": [
    {
     "name": "stdout",
     "output_type": "stream",
     "text": [
      "(0.07159770141782323, 'This responsiveness had nothing to do with that flabby impressionability which is dignified under the name of the \"creative temperament\"--it was an extraordinary gift for hope, a romantic readiness such as I have never found in any other person and which it is not likely I shall ever find again.')\n"
     ]
    }
   ],
   "source": [
    "# Calculate similarity\n",
    "similarity = data_counts * data_counts.T\n",
    "\n",
    "# Identifying highest ranked sentence\n",
    "nx_graph = nx.from_scipy_sparse_matrix(similarity)\n",
    "ranks = nx.pagerank(nx_graph, alpha=.85, tol=.00000001)\n",
    "\n",
    "ranked = sorted(((ranks[i],s) for i,s in enumerate(sentences)), reverse=True)\n",
    "print(ranked[0])"
   ]
  },
  {
   "cell_type": "code",
   "execution_count": 4,
   "metadata": {},
   "outputs": [
    {
     "name": "stdout",
     "output_type": "stream",
     "text": [
      "Done!\n"
     ]
    }
   ],
   "source": [
    "# Keyword summarization\n",
    "# Remove stop words and punctuation, and get a unique list\n",
    "gatsby_filt = [word for word in gatsby if word.is_stop==False and (word.pos_=='NOUN' or word.pos_=='ADJ')]\n",
    "words = set(gatsby_filt)\n",
    "\n",
    "# Create a grid indicating whether words are within 4 places of the target\n",
    "adjacency = pd.DataFrame(columns=words, index=words, data=0)\n",
    "\n",
    "# Iterate through each word and determine which unique words are neighbors with it.\\\n",
    "for i, word in enumerate(gatsby):\n",
    "    # Check word's next 4 neighbors are in the word list\n",
    "    if any([word == item for item in gatsby_filt]):\n",
    "        # Stops at the end of the string, if less than 4 words\n",
    "        end = max(0, len(gatsby)-len(gatsby)-(i+5))\n",
    "        # Potential neighbors\n",
    "        nextwords = gatsby[i+1:end]\n",
    "        # Filter to only select those in the list\n",
    "        inset = [x in gatsby_filt for X in nextwords]\n",
    "        neighbors = [nextwords[i] for i in range(len(nextwords)) if inset[i]]\n",
    "        # add 1 to adjacency matrix for neighbors of the target\n",
    "        if neighbors:\n",
    "            adjacency.loc[word,neighbors] = adjacency.loc[word,neighbors]+1\n",
    "\n",
    "print(\"Done!\")"
   ]
  },
  {
   "cell_type": "code",
   "execution_count": 7,
   "metadata": {},
   "outputs": [
    {
     "name": "stdout",
     "output_type": "stream",
     "text": [
      "[(0.007692307692307675, men), (0.007692307692307675, elations), (0.007692307692307675, sorrows), (0.007692307692307675, abortive), (0.007692307692307675, interest)]\n"
     ]
    },
    {
     "name": "stderr",
     "output_type": "stream",
     "text": [
      "/Users/jkovach/opt/anaconda3/lib/python3.7/site-packages/ipykernel_launcher.py:2: FutureWarning: Method .as_matrix will be removed in a future version. Use .values instead.\n",
      "  \n"
     ]
    }
   ],
   "source": [
    "# Running TextRank\n",
    "nx_words = nx.from_numpy_matrix(adjacency.as_matrix())\n",
    "ranks = nx.pagerank(nx_words, alpha=.85, tol=.00000001)\n",
    "\n",
    "# ID 5 highest ranked words\n",
    "ranked = sorted(((ranks[i],s) for i,s in enumerate(words)), reverse=True)\n",
    "print(ranked[:5])"
   ]
  },
  {
   "cell_type": "code",
   "execution_count": null,
   "metadata": {},
   "outputs": [],
   "source": []
  }
 ],
 "metadata": {
  "kernelspec": {
   "display_name": "Python 3",
   "language": "python",
   "name": "python3"
  },
  "language_info": {
   "codemirror_mode": {
    "name": "ipython",
    "version": 3
   },
   "file_extension": ".py",
   "mimetype": "text/x-python",
   "name": "python",
   "nbconvert_exporter": "python",
   "pygments_lexer": "ipython3",
   "version": "3.7.4"
  }
 },
 "nbformat": 4,
 "nbformat_minor": 2
}
