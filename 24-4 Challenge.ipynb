{
 "cells": [
  {
   "cell_type": "markdown",
   "metadata": {},
   "source": [
    "1. Predict the running times of prospective Olympic sprinters using data from the last 20 Olympics.\n",
    "-OLS regression based on other features. Especially important would be physical characteristics of each athlete (height, weight, etc.), prior times of similar races, race splits, distance splits, and country of origin\n",
    "\n",
    "2. You have more features (columns) than rows in your dataset.\n",
    "-Likely dimensionality reduction through PCA or filter methods. Goal would be to reduce feature set to only those highly correlated with the target, and uncorrelated with one another as too many features would lead to inaccuracy.\n",
    "\n",
    "3. Identify the most important characteristic predicting likelihood of being jailed before age 20.\n",
    "-Based on the data provided, implement a correlation matrix to identify highly correlated features, then appropriately weight and apply KNN based on relevant feature set.\n",
    "\n",
    "4. Implement a filter to “highlight” emails that might be important to the recipient\n",
    "-Classification by KNN. We would want to engineer features for all emails such as to identify important emails and form a training set, then determine the high correlation features (keywords, sender, subject, etc.) to identify other possibly important emails.\n",
    "\n",
    "5. You have 1000+ features.\n",
    "-Application of a filter method to remove features below a certain threshold, making the remaining features easier to work with.\n",
    "\n",
    "6. Predict whether someone who adds items to their cart on a website will purchase the items.\n",
    "-SVM. Important features might be time on site, items added, number of items added (expect that less items would lead to higher abandoned cart rates), page views, etc.\n",
    "\n",
    "7. Your dataset dimensions are 982400 x 500\n",
    "-Random forests with subsampling of both features and observations to reduce the computational load of analyzing the full set of data/features.\n",
    "\n",
    "8. Identify faces in an image.\n",
    "-I would guess you would declare certain features which are associated with faces (such as shape, pixel color, etc) then create boolean values for whether or not these features are present in various sectors of the image and match these with KNN or SVM.\n",
    "\n",
    "9. Predict which of three flavors of ice cream will be most popular with boys vs girls.\n",
    "-SVM or KNN with engineered interaction features based off flavor popularity and dummy variables for is male and is female. "
   ]
  }
 ],
 "metadata": {
  "kernelspec": {
   "display_name": "Python 3",
   "language": "python",
   "name": "python3"
  },
  "language_info": {
   "codemirror_mode": {
    "name": "ipython",
    "version": 3
   },
   "file_extension": ".py",
   "mimetype": "text/x-python",
   "name": "python",
   "nbconvert_exporter": "python",
   "pygments_lexer": "ipython3",
   "version": "3.7.1"
  }
 },
 "nbformat": 4,
 "nbformat_minor": 2
}
