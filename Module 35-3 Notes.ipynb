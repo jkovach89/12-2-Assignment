{
 "cells": [
  {
   "cell_type": "code",
   "execution_count": 9,
   "metadata": {},
   "outputs": [],
   "source": [
    "import time, random\n",
    "\n",
    "random.seed(a=100)\n",
    "\n",
    "short_list = list(random.sample(range(100000), 10))\n",
    "long_list = list(random.sample(range(100000), 10000))"
   ]
  },
  {
   "cell_type": "code",
   "execution_count": 10,
   "metadata": {},
   "outputs": [],
   "source": [
    "# Insertion Sort\n",
    "def insert_sort(input_list):\n",
    "    new_list = input_list\n",
    "    for i in range(len(new_list)):\n",
    "        j = i\n",
    "        while j > 0 and new_list[j-1] > new_list[j]:\n",
    "            new_list[j-1], new_list[j] = new_list[j], new_list[j-1]\n",
    "            j = j - 1\n",
    "    return new_list"
   ]
  },
  {
   "cell_type": "code",
   "execution_count": 11,
   "metadata": {},
   "outputs": [
    {
     "name": "stdout",
     "output_type": "stream",
     "text": [
      "7.915496826171875e-05 seconds\n",
      "[19093, 22904, 45840, 51515, 56821, 59628, 60231, 66435, 92473, 95939]\n"
     ]
    }
   ],
   "source": [
    "# Timer for efficiency\n",
    "start_time = time.time()\n",
    "\n",
    "s = insert_sort(short_list)\n",
    "print('{} seconds'.format(time.time()-start_time))\n",
    "print(s)"
   ]
  },
  {
   "cell_type": "code",
   "execution_count": 12,
   "metadata": {},
   "outputs": [
    {
     "name": "stdout",
     "output_type": "stream",
     "text": [
      "7.592497110366821 seconds\n"
     ]
    }
   ],
   "source": [
    "# Timer for efficiency, long list\n",
    "start_time = time.time()\n",
    "\n",
    "l = insert_sort(long_list)\n",
    "print('{} seconds'.format(time.time()-start_time))\n",
    "# Computationally inefficient"
   ]
  },
  {
   "cell_type": "code",
   "execution_count": 15,
   "metadata": {},
   "outputs": [],
   "source": [
    "# Merge sort\n",
    "def merge(a, b):\n",
    "    if len(a) == 0 or len(b) == 0:\n",
    "        return a or b\n",
    "    \n",
    "    result = []\n",
    "    \n",
    "    #tracking to indicies\n",
    "    i, j = 0, 0\n",
    "    while (len(result) < len(a) + len(b)):\n",
    "        if a[i] < b[j]:\n",
    "            result.append(a[i])\n",
    "            i+=1\n",
    "        else:\n",
    "            result.append(b[j])\n",
    "            j+=1\n",
    "        if i == len(a) or j == len(b):\n",
    "            result.extend(a[i:] or b[j:])\n",
    "            break\n",
    "        \n",
    "    return result\n",
    "\n",
    "def merge_sort(lst):\n",
    "    if len(lst) < 2:\n",
    "        return lst\n",
    "    \n",
    "    mid = int(len(lst)/2)\n",
    "    a = merge_sort(lst[:mid])\n",
    "    b = merge_sort(lst[mid:])\n",
    "    \n",
    "    return merge(a, b)"
   ]
  },
  {
   "cell_type": "code",
   "execution_count": 16,
   "metadata": {},
   "outputs": [
    {
     "name": "stdout",
     "output_type": "stream",
     "text": [
      "0.00010704994201660156 seconds\n",
      "[19093, 22904, 45840, 51515, 56821, 59628, 60231, 66435, 92473, 95939]\n"
     ]
    }
   ],
   "source": [
    "# Timer for efficiency\n",
    "start_time = time.time()\n",
    "\n",
    "s = merge_sort(short_list)\n",
    "print('{} seconds'.format(time.time()-start_time))\n",
    "print(s)"
   ]
  },
  {
   "cell_type": "code",
   "execution_count": 17,
   "metadata": {},
   "outputs": [
    {
     "name": "stdout",
     "output_type": "stream",
     "text": [
      "0.05159711837768555 seconds\n"
     ]
    }
   ],
   "source": [
    "# Timer for efficiency, long list\n",
    "start_time = time.time()\n",
    "\n",
    "l = merge_sort(long_list)\n",
    "print('{} seconds'.format(time.time()-start_time))\n",
    "# Computationally inefficient"
   ]
  },
  {
   "cell_type": "code",
   "execution_count": 18,
   "metadata": {},
   "outputs": [
    {
     "name": "stdout",
     "output_type": "stream",
     "text": [
      "0.0004260540008544922 seconds\n"
     ]
    }
   ],
   "source": [
    "# Python built-in sort function - Timer for efficiency\n",
    "start_time = time.time()\n",
    "\n",
    "sorted(long_list)\n",
    "print('{} seconds'.format(time.time()-start_time))"
   ]
  },
  {
   "cell_type": "code",
   "execution_count": 20,
   "metadata": {},
   "outputs": [],
   "source": [
    "# Quick sort\n",
    "def partition(arr, low, high):\n",
    "    i = low-1\n",
    "    pivot = arr[high]\n",
    "    \n",
    "    for j in range(low, high):\n",
    "        if arr[j] <= pivot:\n",
    "            i = i+1\n",
    "            arr[i], arr[j] = arr[j], arr[i]\n",
    "    \n",
    "    arr[i+1], arr[high] = arr[high], arr[i+1]\n",
    "    return i+1\n",
    "\n",
    "def quickSort(arr, low, high):\n",
    "    if low < high:\n",
    "        pi = partition(arr, low, high)\n",
    "        quickSort(arr, low, pi-1)\n",
    "        quickSort(arr, pi+1, high)"
   ]
  },
  {
   "cell_type": "code",
   "execution_count": 21,
   "metadata": {},
   "outputs": [
    {
     "name": "stdout",
     "output_type": "stream",
     "text": [
      "0.00010776519775390625 seconds\n"
     ]
    }
   ],
   "source": [
    "# Python built-in sort function - Timer for efficiency\n",
    "start_time = time.time()\n",
    "\n",
    "quickSort(short_list, 0, (len(short_list)-1))\n",
    "print('{} seconds'.format(time.time()-start_time))"
   ]
  },
  {
   "cell_type": "code",
   "execution_count": null,
   "metadata": {},
   "outputs": [],
   "source": []
  }
 ],
 "metadata": {
  "kernelspec": {
   "display_name": "Python 3",
   "language": "python",
   "name": "python3"
  },
  "language_info": {
   "codemirror_mode": {
    "name": "ipython",
    "version": 3
   },
   "file_extension": ".py",
   "mimetype": "text/x-python",
   "name": "python",
   "nbconvert_exporter": "python",
   "pygments_lexer": "ipython3",
   "version": "3.7.4"
  }
 },
 "nbformat": 4,
 "nbformat_minor": 2
}
