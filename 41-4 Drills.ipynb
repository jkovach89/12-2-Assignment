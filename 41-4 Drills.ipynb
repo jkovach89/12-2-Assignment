{
 "cells": [
  {
   "cell_type": "code",
   "execution_count": 1,
   "metadata": {},
   "outputs": [
    {
     "name": "stderr",
     "output_type": "stream",
     "text": [
      "[nltk_data] Downloading package punkt to /Users/jkovach/nltk_data...\n",
      "[nltk_data]   Package punkt is already up-to-date!\n",
      "[nltk_data] Downloading package gutenberg to\n",
      "[nltk_data]     /Users/jkovach/nltk_data...\n",
      "[nltk_data]   Package gutenberg is already up-to-date!\n"
     ]
    },
    {
     "name": "stdout",
     "output_type": "stream",
     "text": [
      "['[ Emma by Jane Austen 1816 ]', 'VOLUME I', 'CHAPTER I', 'Emma Woodhouse , handsome , clever , and rich , with a comfortable home and happy disposition , seemed to unite some of the best blessings of existence ; and had lived nearly twenty - one years in the world with very little to distress or vex her .']\n"
     ]
    }
   ],
   "source": [
    "import numpy as np, pandas as pd, scipy, matplotlib.pyplot as plt, seaborn as sns, nltk, re\n",
    "from nltk.corpus import gutenberg\n",
    "from sklearn.model_selection import train_test_split\n",
    "\n",
    "%matplotlib inline\n",
    "\n",
    "nltk.download('punkt')\n",
    "nltk.download('gutenberg')\n",
    "\n",
    "# Read the data as paragraphs\n",
    "emma = gutenberg.paras('austen-emma.txt')\n",
    "\n",
    "# Processing\n",
    "emma_paras = []\n",
    "for paragraph in emma:\n",
    "    para=paragraph[0]\n",
    "    \n",
    "    # Remove double dash\n",
    "    para=[re.sub(r'--', '', word) for word in para]\n",
    "    \n",
    "    # Format to string and add to list\n",
    "    emma_paras.append(' '.join(para))\n",
    "\n",
    "print(emma_paras[:4])"
   ]
  },
  {
   "cell_type": "code",
   "execution_count": 2,
   "metadata": {},
   "outputs": [
    {
     "name": "stdout",
     "output_type": "stream",
     "text": [
      "Number of features: 1948\n",
      "Original Sentence: A very few minutes more , however , completed the present trial .\n",
      "TF_IDF Vector: {'minutes': 0.5040029961941199, 'present': 0.49599700380588013}\n"
     ]
    }
   ],
   "source": [
    "# Drill #1: tuning\n",
    "# Tf-idf with Sklearn\n",
    "from sklearn.feature_extraction.text import TfidfVectorizer\n",
    "\n",
    "X_train, X_test = train_test_split(emma_paras, test_size=0.4, random_state=0)\n",
    "\n",
    "vectorizer = TfidfVectorizer(max_df=0.75, # drop words that occur in more than half the paragraphs\n",
    "                             min_df=2, #only use words that appear at least twice\n",
    "                             stop_words='english',\n",
    "                             lowercase=True, #converts all words to lowercase\n",
    "                             use_idf=True, #use idf as weights\n",
    "                             norm=u'l1', #correction factor for document length (L1, L2, or max)\n",
    "                             smooth_idf=True #Adds 1 to all doc frequencies, prevents divide by zero errors\n",
    "                            )\n",
    "\n",
    "# Apply vectorizer and split to training/test sets\n",
    "emma_tfidf = vectorizer.fit_transform(emma_paras)\n",
    "print(\"Number of features: %d\" % emma_tfidf.get_shape()[1])\n",
    "X_train_tfidf, X_test_tfidf = train_test_split(emma_tfidf, test_size=0.4, random_state=0)\n",
    "\n",
    "# Reshapes output into human readable format\n",
    "X_train_tfidf_csr = X_train_tfidf.tocsr()\n",
    "\n",
    "# Get number of paragraphs\n",
    "n = X_train_tfidf_csr.shape[0]\n",
    "\n",
    "# Create one dictionary per paragraph\n",
    "tfidf_bypara = [{} for _ in range(0,n)]\n",
    "\n",
    "# List of features\n",
    "terms = vectorizer.get_feature_names()\n",
    "\n",
    "# List feature words and tfidf scores for each paragraph\n",
    "for i, j in zip(*X_train_tfidf_csr.nonzero()):\n",
    "    tfidf_bypara[i][terms[j]] = X_train_tfidf_csr[i, j]\n",
    "    \n",
    "print('Original Sentence:', X_train[5])\n",
    "print('TF_IDF Vector:', tfidf_bypara[5])"
   ]
  },
  {
   "cell_type": "code",
   "execution_count": 3,
   "metadata": {},
   "outputs": [
    {
     "name": "stdout",
     "output_type": "stream",
     "text": [
      "Variance captured by new components: 63.668056008835116\n",
      "Component 0\n",
      "\" Oh !     0.999928\n",
      "\" Oh !     0.999928\n",
      "\" Oh !     0.999928\n",
      "\" Oh !     0.999928\n",
      "\" Oh !     0.999928\n",
      "\" Oh !     0.999928\n",
      "\" Oh !\"    0.999928\n",
      "\" Oh !     0.999928\n",
      "\" Oh !     0.999928\n",
      "Oh !       0.999928\n",
      "Name: 0, dtype: float64\n",
      "Component 1\n",
      "\" Ah !      0.999987\n",
      "\" Ah !      0.999987\n",
      "\" Ah !      0.999987\n",
      "\" Ah !      0.999987\n",
      "\" Ah !      0.999987\n",
      "\" Ah !      0.999987\n",
      "\" Ah !      0.999987\n",
      "\" Ah !      0.999987\n",
      "\" Ah !      0.999987\n",
      "But ah !    0.999987\n",
      "Name: 1, dtype: float64\n",
      "Component 2\n",
      "CHAPTER I       0.997027\n",
      "CHAPTER X       0.997027\n",
      "CHAPTER I       0.997027\n",
      "CHAPTER I       0.997027\n",
      "CHAPTER V       0.997027\n",
      "CHAPTER V       0.997027\n",
      "CHAPTER X       0.997027\n",
      "CHAPTER V       0.997027\n",
      "CHAPTER X       0.997027\n",
      "CHAPTER XIII    0.992845\n",
      "Name: 2, dtype: float64\n",
      "Component 3\n",
      "\" From something that he said , my dear Emma , I rather imagine \"                                                                                                         0.825409\n",
      "\" Emma , my dear Emma \"                                                                                                                                                   0.797137\n",
      "\" My dearest Emma ,\" said he , \" for dearest you will always be , whatever the event of this hour ' s conversation , my dearest , most beloved Emma  tell me at once .    0.781953\n",
      "\" There were misunderstandings between them , Emma ; he said so expressly .                                                                                               0.772408\n",
      "\" I am ready ,\" said Emma , \" whenever I am wanted .\"                                                                                                                     0.769908\n",
      "\" It is not now worth a regret ,\" said Emma .                                                                                                                             0.766750\n",
      "\" It is not fair ,\" said Emma , in a whisper ; \" mine was a random guess .                                                                                                0.755929\n",
      "\" What is to be done , my dear Emma ? what is to be done ?\"                                                                                                               0.716899\n",
      "\" There might be scruples of delicacy , my dear Emma .                                                                                                                    0.710429\n",
      "\" Are you well , my Emma ?\"                                                                                                                                               0.690717\n",
      "Name: 3, dtype: float64\n",
      "Component 4\n",
      "\" Thank you .                                                                                                                                                  0.990754\n",
      "\" Thank you .                                                                                                                                                  0.990754\n",
      "\" Thank you .                                                                                                                                                  0.990754\n",
      "\" No , I thank you .                                                                                                                                           0.990754\n",
      "\" No , not now , I thank you .                                                                                                                                 0.990754\n",
      "\" Thank you , thank you  but on no account . I would rather walk . And for _me_ to be afraid of walking alone ! I , who may so soon have to guard others !\"    0.922493\n",
      "\" How d ' ye do ? how d ' ye do ? Very well , I thank you .                                                                                                    0.920221\n",
      "\" Thank you , thank you . This is just what I wanted to be assured of . Oh !                                                                                   0.887528\n",
      "\" Thank you , thank you , my own sweet little friend .                                                                                                         0.857322\n",
      "\" I have not the least wish for it , I thank you .\"                                                                                                            0.850575\n",
      "Name: 4, dtype: float64\n"
     ]
    }
   ],
   "source": [
    "# Dimensionality Reduction\n",
    "from sklearn.decomposition import TruncatedSVD\n",
    "from sklearn.pipeline import make_pipeline\n",
    "from sklearn.preprocessing import Normalizer\n",
    "\n",
    "# SVD data reducer, reducing to 130 features\n",
    "svd = TruncatedSVD(130)\n",
    "lsa = make_pipeline(svd, Normalizer(copy=False))\n",
    "\n",
    "# Run SVD on the training data then project\n",
    "X_train_lsa = lsa.fit_transform(X_train_tfidf)\n",
    "\n",
    "exp_var = svd.explained_variance_ratio_\n",
    "total_variance = exp_var.sum()\n",
    "print(\"Variance captured by new components: {}\".format(total_variance*100))\n",
    "\n",
    "# See what paragraphs the model considers similar\n",
    "paras_by_component = pd.DataFrame(X_train_lsa, index=X_train)\n",
    "for i in range(5):\n",
    "    print('Component {}'.format(i))\n",
    "    print(paras_by_component.loc[:,i].sort_values(ascending=False)[0:10])"
   ]
  },
  {
   "cell_type": "code",
   "execution_count": 4,
   "metadata": {},
   "outputs": [
    {
     "data": {
      "image/png": "[encoded data removed]",
      "text/plain": [
       "<Figure size 432x288 with 2 Axes>"
      ]
     },
     "metadata": {
      "needs_background": "light"
     },
     "output_type": "display_data"
    },
    {
     "name": "stdout",
     "output_type": "stream",
     "text": [
      "Key:\n",
      "0 That is _court_ .\n",
      "1 \" Yes , sir , I did indeed ; and I am very much obliged by your kind solicitude about me .\"\n",
      "2 \" How much his business engrosses him already is very plain from the circumstance of his forgetting to inquire for the book you recommended .\n",
      "3 To restrain him as much as might be , by her own manners , she was immediately preparing to speak with exquisite calmness and gravity of the weather and the night ; but scarcely had she begun , scarcely had they passed the sweep - gate and joined the other carriage , than she found her subject cut up  her hand seized  her attention demanded , and Mr . Elton actually making violent love to her : availing himself of the precious opportunity , declaring sentiments which must be already well known , hoping  fearing  adoring  ready to die if she refused him ; but flattering himself that his ardent attachment and unequalled love and unexampled passion could not fail of having some effect , and in short , very much resolved on being seriously accepted as soon as possible .\n",
      "4 Emma smiled and answered \" My visit was of use to the nervous part of her complaint , I hope ; but not even I can charm away a sore throat ; it is a most severe cold indeed .\n",
      "5 A very few minutes more , however , completed the present trial .\n",
      "6 \" I am delighted to hear you speak so stoutly on the subject ,\" replied Emma , smiling ; \" but you do not mean to deny that there was a time  and not very distant either  when you gave me reason to understand that you did care about him ?\"\n",
      "7 \" Very well ; and if he had intended to give her one , he would have told her so .\"\n",
      "8 Some laughed , and answered good - humouredly .\n",
      "9 \" There appeared such a perfectly good understanding among them all \" he began rather quickly , but checking himself , added , \" however , it is impossible for me to say on what terms they really were  how it might all be behind the scenes .\n"
     ]
    }
   ],
   "source": [
    "# Sentence Similarity\n",
    "# Compute similarity between documents with LSA\n",
    "similarity = np.asarray(np.asmatrix(X_train_lsa) * np.asmatrix(X_train_lsa).T)\n",
    "sim_matrix = pd.DataFrame(similarity, index=X_train).iloc[0:10, 0:10]\n",
    "ax = sns.heatmap(sim_matrix, yticklabels=range(10))\n",
    "plt.show()\n",
    "\n",
    "# Creating a key for the plot\n",
    "print('Key:')\n",
    "for i in range(10):\n",
    "    print(i, sim_matrix.index[i])"
   ]
  },
  {
   "cell_type": "code",
   "execution_count": 5,
   "metadata": {},
   "outputs": [
    {
     "name": "stdout",
     "output_type": "stream",
     "text": [
      "Variance captured by new components: 69.20982502178038\n",
      "Component 0\n",
      "\" Oh !    0.999998\n",
      "\" Oh !    0.999998\n",
      "\" Oh !    0.999998\n",
      "\" Oh !    0.999998\n",
      "\" Oh !    0.999998\n",
      "\" Oh !    0.999998\n",
      "\" Oh !    0.999998\n",
      "\" Oh !    0.999998\n",
      "\" Oh !    0.999998\n",
      "\" Oh !    0.999998\n",
      "Name: 0, dtype: float64\n",
      "Component 1\n",
      "\" Ah !     0.999629\n",
      "\" Ah !     0.999629\n",
      "\" Ah !     0.999629\n",
      "\" Ah !     0.999629\n",
      "\" Ah !     0.999629\n",
      "\" Ah !     0.999629\n",
      "\" Ah !\"    0.999629\n",
      "\" Ah !     0.999629\n",
      "\" Ah !     0.999629\n",
      "\" Ah !     0.999629\n",
      "Name: 1, dtype: float64\n",
      "Component 2\n",
      "\" Yes I should , I am sure I should .                                                                                                                                                  0.945560\n",
      "\" Yes ; Jane says she is sure they will ; but yet , this is such a situation as she cannot feel herself justified in declining .                                                       0.790036\n",
      "\" Are you sure ?                                                                                                                                                                       0.783109\n",
      "\" To be sure .                                                                                                                                                                         0.783109\n",
      "\" To be sure !\"                                                                                                                                                                        0.783109\n",
      "\" To be sure I am .                                                                                                                                                                    0.783109\n",
      "Emma was sure he had not forgiven her ; he looked unlike himself .                                                                                                                     0.726007\n",
      "\" I do suspect that in the midst of your perplexities at that time , you had very great amusement in tricking us all . I am sure you had . I am sure it was a consolation to you .\"    0.692294\n",
      "Emma thanked him , but could not allow of his disappointing his friend on their account ; her father was sure of his rubber .                                                          0.632984\n",
      "Human nature is so well disposed towards those who are in interesting situations , that a young person , who either marries or dies , is sure of being kindly spoken of .              0.617433\n",
      "Name: 2, dtype: float64\n",
      "Component 3\n",
      "\" My Emma !\"                                                                                                                                        0.923718\n",
      "\" Emma !\"                                                                                                                                           0.923718\n",
      "Emma had done .                                                                                                                                     0.923718\n",
      "Emma denied none of it aloud , and agreed to none of it in private .                                                                                0.874670\n",
      "Emma wondered on what , of all the medley , she would fix .                                                                                         0.825506\n",
      "\" Such an imagination has crossed me , I own , Emma ; and if it never occurred to you before , you may as well take it into consideration now .\"    0.795642\n",
      "But he laughed so heartily at the recollection , that Emma could not help saying ,                                                                  0.694060\n",
      "Emma returned her friend ' s pressure with interest ; and was pleased enough to exclaim ,                                                           0.666118\n",
      "\" Well ,\" said Emma , \" there is no disputing about taste . At least you admire her except her complexion .\"                                        0.664888\n",
      "\" No , no ,\" said Emma , \" it will not reckon low .                                                                                                 0.639599\n",
      "Name: 3, dtype: float64\n",
      "Component 4\n",
      "CHAPTER XIX     0.981288\n",
      "CHAPTER IX      0.888070\n",
      "CHAPTER VII     0.878107\n",
      "CHAPTER VIII    0.868468\n",
      "CHAPTER XI      0.865174\n",
      "CHAPTER IV      0.840506\n",
      "CHAPTER XIV     0.832468\n",
      "CHAPTER XV      0.660294\n",
      "CHAPTER XV      0.660294\n",
      "CHAPTER XV      0.660294\n",
      "Name: 4, dtype: float64\n"
     ]
    }
   ],
   "source": [
    "# Drill #0: implement with test data\n",
    "X_test_tfidf_csr = X_test_tfidf.tocsr()\n",
    "nt = X_test_tfidf_csr.shape[0]\n",
    "tfidf_bypara = [{} for _ in range(0,n)]\n",
    "terms = vectorizer.get_feature_names()\n",
    "for i, j in zip(*X_test_tfidf_csr.nonzero()):\n",
    "    tfidf_bypara[i][terms[j]] = X_test_tfidf_csr[i, j]\n",
    "    \n",
    "X_test_lsa = lsa.fit_transform(X_test_tfidf)\n",
    "\n",
    "exp_var = svd.explained_variance_ratio_\n",
    "total_variance = exp_var.sum()\n",
    "print(\"Variance captured by new components: {}\".format(total_variance*100))\n",
    "\n",
    "paras_by_component = pd.DataFrame(X_test_lsa, index=X_test)\n",
    "for i in range(5):\n",
    "    print('Component {}'.format(i))\n",
    "    print(paras_by_component.loc[:,i].sort_values(ascending=False)[0:10])"
   ]
  },
  {
   "cell_type": "code",
   "execution_count": null,
   "metadata": {},
   "outputs": [],
   "source": []
  }
 ],
 "metadata": {
  "kernelspec": {
   "display_name": "Python 3",
   "language": "python",
   "name": "python3"
  },
  "language_info": {
   "codemirror_mode": {
    "name": "ipython",
    "version": 3
   },
   "file_extension": ".py",
   "mimetype": "text/x-python",
   "name": "python",
   "nbconvert_exporter": "python",
   "pygments_lexer": "ipython3",
   "version": "3.7.4"
  }
 },
 "nbformat": 4,
 "nbformat_minor": 2
}
