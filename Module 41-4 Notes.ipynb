{
 "cells": [
  {
   "cell_type": "code",
   "execution_count": 1,
   "metadata": {},
   "outputs": [
    {
     "name": "stderr",
     "output_type": "stream",
     "text": [
      "[nltk_data] Downloading package punkt to /Users/jkovach/nltk_data...\n",
      "[nltk_data]   Package punkt is already up-to-date!\n",
      "[nltk_data] Downloading package gutenberg to\n",
      "[nltk_data]     /Users/jkovach/nltk_data...\n",
      "[nltk_data]   Package gutenberg is already up-to-date!\n"
     ]
    },
    {
     "data": {
      "text/plain": [
       "True"
      ]
     },
     "execution_count": 1,
     "metadata": {},
     "output_type": "execute_result"
    }
   ],
   "source": [
    "import numpy as np, pandas as pd, scipy, matplotlib.pyplot as plt, seaborn as sns, nltk, re\n",
    "from nltk.corpus import gutenberg\n",
    "from sklearn.model_selection import train_test_split\n",
    "\n",
    "%matplotlib inline\n",
    "\n",
    "nltk.download('punkt')\n",
    "nltk.download('gutenberg')"
   ]
  },
  {
   "cell_type": "markdown",
   "metadata": {},
   "source": [
    "Supervised NLP doesn't capture semantics (meaning) of language\n",
    "Unsupervised learns by identifying recurring patterns within corpus\n",
    "Dataset would need to have sufficient scope\n",
    "Latent semantic analysis"
   ]
  },
  {
   "cell_type": "markdown",
   "metadata": {},
   "source": [
    "Convert sentences to vectors:\n",
    "1. reduce words to lemmas, remove stop words and those that only occur once\n",
    "2. Term-document matrix consists of x(terms) and y(document, usually sentences, chunks of text)\n",
    "3. apply weights so that less frequent words have higher weights (still exclude words that only occur once)\n",
    "\n",
    "Quantify documents: Collection vs. Document Frequencies\n",
    "1. Document frequency - how many documents(sentences) a word occurs in\n",
    "2. Collection frequency - total occurances over all sentences\n",
    "\n",
    "Penalizing indiscriminate words: IDF\n",
    "1. Inverse document frequency - weight applied to less frequent words\n",
    "2. log2 of number of docs divded by document frequency\n",
    "\n",
    "Term frequency weights\n",
    "1. creating unique weights for each sentence\n",
    "2. term frequency times idf for the term"
   ]
  },
  {
   "cell_type": "markdown",
   "metadata": {},
   "source": [
    "tf idf converts human readable language into computer useable numeric data. Possible decision points include:\n",
    "1. stop words to include or exclude\n",
    "2. phrase usage ('monty', 'python' versus 'monty python')\n",
    "3. Threshold for infrequent words\n",
    "4. number of terms to keep as features\n",
    "\n",
    "Space vector model\n",
    "1. vector representation of text used to compute similarity between known sentences and new inputs\n",
    "2. new sentences are transformed to vectors and placed in the vector space, angles calculated between existing and new vectors\n",
    "3. calculation is typically the cosine of the angle between vectors, 0deg=1 would be best case outcome\n",
    "4. weaknesses: synonyms, polysemy\n",
    "\n",
    "Latent Semantic Analysis:\n",
    "1. applying PCA to a tf-idf td matrix, resulting in clusters of terms that represent a topic\n",
    "2. each document will get a score, higher scores are more relevant, documents may score for multiple topics\n",
    "3. corpus is too large to manually annotate\n"
   ]
  },
  {
   "cell_type": "code",
   "execution_count": 2,
   "metadata": {},
   "outputs": [
    {
     "name": "stdout",
     "output_type": "stream",
     "text": [
      "['[ Emma by Jane Austen 1816 ]', 'VOLUME I', 'CHAPTER I', 'Emma Woodhouse , handsome , clever , and rich , with a comfortable home and happy disposition , seemed to unite some of the best blessings of existence ; and had lived nearly twenty - one years in the world with very little to distress or vex her .']\n"
     ]
    }
   ],
   "source": [
    "# Read the data as paragraphs\n",
    "emma = gutenberg.paras('austen-emma.txt')\n",
    "\n",
    "# Processing\n",
    "emma_paras = []\n",
    "for paragraph in emma:\n",
    "    para=paragraph[0]\n",
    "    \n",
    "    # Remove double dash\n",
    "    para=[re.sub(r'--', '', word) for word in para]\n",
    "    \n",
    "    # Format to string and add to list\n",
    "    emma_paras.append(' '.join(para))\n",
    "\n",
    "print(emma_paras[:4])"
   ]
  },
  {
   "cell_type": "code",
   "execution_count": 37,
   "metadata": {},
   "outputs": [
    {
     "name": "stdout",
     "output_type": "stream",
     "text": [
      "Number of features: 1948\n",
      "Original Sentence: A very few minutes more , however , completed the present trial .\n",
      "TF_IDF Vector: {'minutes': 0.5040029961941199, 'present': 0.49599700380588013}\n"
     ]
    }
   ],
   "source": [
    "# Tf-idf with Sklearn\n",
    "from sklearn.feature_extraction.text import TfidfVectorizer\n",
    "\n",
    "X_train, X_test = train_test_split(emma_paras, test_size=0.4, random_state=0)\n",
    "\n",
    "vectorizer = TfidfVectorizer(max_df=0.75, # drop words that occur in more than half the paragraphs\n",
    "                             min_df=2, #only use words that appear at least twice\n",
    "                             stop_words='english',\n",
    "                             lowercase=True, #converts all words to lowercase\n",
    "                             use_idf=True, #use idf as weights\n",
    "                             norm=u'l1', #correction factor for document length (L1, L2, or max)\n",
    "                             smooth_idf=True #Adds 1 to all doc frequencies, prevents divide by zero errors\n",
    "                            )\n",
    "\n",
    "# Apply vectorizer and split to training/test sets\n",
    "emma_tfidf = vectorizer.fit_transform(emma_paras)\n",
    "print(\"Number of features: %d\" % emma_tfidf.get_shape()[1])\n",
    "X_train_tfidf, X_test_tfidf = train_test_split(emma_tfidf, test_size=0.4, random_state=0)\n",
    "\n",
    "# Reshapes output into human readable format\n",
    "X_train_tfidf_csr = X_train_tfidf.tocsr()\n",
    "\n",
    "# Get number of paragraphs\n",
    "n = X_train_tfidf_csr.shape[0]\n",
    "\n",
    "# Create one dictionary per paragraph\n",
    "tfidf_bypara = [{} for _ in range(0,n)]\n",
    "\n",
    "# List of features\n",
    "terms = vectorizer.get_feature_names()\n",
    "\n",
    "# List feature words and tfidf scores for each paragraph\n",
    "for i, j in zip(*X_train_tfidf_csr.nonzero()):\n",
    "    tfidf_bypara[i][terms[j]] = X_train_tfidf_csr[i, j]\n",
    "    \n",
    "print('Original Sentence:', X_train[5])\n",
    "print('TF_IDF Vector:', tfidf_bypara[5])"
   ]
  },
  {
   "cell_type": "code",
   "execution_count": 38,
   "metadata": {},
   "outputs": [
    {
     "name": "stdout",
     "output_type": "stream",
     "text": [
      "Variance captured by new components: 63.680171849818414\n",
      "Component 0\n",
      "\" Oh !     0.999928\n",
      "\" Oh !     0.999928\n",
      "\" Oh !     0.999928\n",
      "\" Oh !     0.999928\n",
      "\" Oh !     0.999928\n",
      "\" Oh !     0.999928\n",
      "\" Oh !     0.999928\n",
      "\" Oh !     0.999928\n",
      "\" Oh !\"    0.999928\n",
      "\" Oh !     0.999928\n",
      "Name: 0, dtype: float64\n",
      "Component 1\n",
      "\" Ah !    0.999988\n",
      "\" Ah !    0.999988\n",
      "\" Ah !    0.999988\n",
      "\" Ah !    0.999988\n",
      "\" Ah !    0.999988\n",
      "\" Ah !    0.999988\n",
      "\" Ah !    0.999988\n",
      "\" Ah !    0.999988\n",
      "\" Ah !    0.999988\n",
      "\" Ah !    0.999988\n",
      "Name: 1, dtype: float64\n",
      "Component 2\n",
      "CHAPTER V      0.997111\n",
      "CHAPTER V      0.997111\n",
      "CHAPTER I      0.997111\n",
      "CHAPTER X      0.997111\n",
      "CHAPTER I      0.997111\n",
      "CHAPTER X      0.997111\n",
      "CHAPTER I      0.997111\n",
      "CHAPTER V      0.997111\n",
      "CHAPTER X      0.997111\n",
      "CHAPTER XII    0.993513\n",
      "Name: 2, dtype: float64\n",
      "Component 3\n",
      "\" From something that he said , my dear Emma , I rather imagine \"                                                                                                         0.823055\n",
      "\" Emma , my dear Emma \"                                                                                                                                                   0.797285\n",
      "\" My dearest Emma ,\" said he , \" for dearest you will always be , whatever the event of this hour ' s conversation , my dearest , most beloved Emma  tell me at once .    0.775212\n",
      "\" There were misunderstandings between them , Emma ; he said so expressly .                                                                                               0.772749\n",
      "\" I am ready ,\" said Emma , \" whenever I am wanted .\"                                                                                                                     0.772106\n",
      "\" It is not now worth a regret ,\" said Emma .                                                                                                                             0.766022\n",
      "\" It is not fair ,\" said Emma , in a whisper ; \" mine was a random guess .                                                                                                0.752144\n",
      "\" What is to be done , my dear Emma ? what is to be done ?\"                                                                                                               0.716963\n",
      "\" There might be scruples of delicacy , my dear Emma .                                                                                                                    0.710534\n",
      "Emma demurred .                                                                                                                                                           0.690958\n",
      "Name: 3, dtype: float64\n",
      "Component 4\n",
      "\" Thank you .                                                                                                                                                  0.990711\n",
      "\" Thank you .                                                                                                                                                  0.990711\n",
      "\" No , not now , I thank you .                                                                                                                                 0.990711\n",
      "\" No , I thank you .                                                                                                                                           0.990711\n",
      "\" Thank you .                                                                                                                                                  0.990711\n",
      "\" How d ' ye do ? how d ' ye do ? Very well , I thank you .                                                                                                    0.958815\n",
      "\" Thank you , thank you  but on no account . I would rather walk . And for _me_ to be afraid of walking alone ! I , who may so soon have to guard others !\"    0.920373\n",
      "\" Thank you , thank you . This is just what I wanted to be assured of . Oh !                                                                                   0.888356\n",
      "\" Thank you , thank you , my own sweet little friend .                                                                                                         0.851867\n",
      "\" I have not the least wish for it , I thank you .\"                                                                                                            0.843542\n",
      "Name: 4, dtype: float64\n"
     ]
    }
   ],
   "source": [
    "# Dimensionality Reduction\n",
    "from sklearn.decomposition import TruncatedSVD\n",
    "from sklearn.pipeline import make_pipeline\n",
    "from sklearn.preprocessing import Normalizer\n",
    "\n",
    "# SVD data reducer, reducing to 130 features\n",
    "svd = TruncatedSVD(130)\n",
    "lsa = make_pipeline(svd, Normalizer(copy=False))\n",
    "\n",
    "# Run SVD on the training data then project\n",
    "X_train_lsa = lsa.fit_transform(X_train_tfidf)\n",
    "\n",
    "exp_var = svd.explained_variance_ratio_\n",
    "total_variance = exp_var.sum()\n",
    "print(\"Variance captured by new components: {}\".format(total_variance*100))\n",
    "\n",
    "# See what paragraphs the model considers similar\n",
    "paras_by_component = pd.DataFrame(X_train_lsa, index=X_train)\n",
    "for i in range(5):\n",
    "    print('Component {}'.format(i))\n",
    "    print(paras_by_component.loc[:,i].sort_values(ascending=False)[0:10])"
   ]
  },
  {
   "cell_type": "code",
   "execution_count": 9,
   "metadata": {},
   "outputs": [
    {
     "data": {
      "image/png": "[encoded data removed]",
      "text/plain": [
       "<Figure size 432x288 with 2 Axes>"
      ]
     },
     "metadata": {
      "needs_background": "light"
     },
     "output_type": "display_data"
    },
    {
     "name": "stdout",
     "output_type": "stream",
     "text": [
      "Key:\n",
      "0 That is _court_ .\n",
      "1 \" Yes , sir , I did indeed ; and I am very much obliged by your kind solicitude about me .\"\n",
      "2 \" How much his business engrosses him already is very plain from the circumstance of his forgetting to inquire for the book you recommended .\n",
      "3 To restrain him as much as might be , by her own manners , she was immediately preparing to speak with exquisite calmness and gravity of the weather and the night ; but scarcely had she begun , scarcely had they passed the sweep - gate and joined the other carriage , than she found her subject cut up  her hand seized  her attention demanded , and Mr . Elton actually making violent love to her : availing himself of the precious opportunity , declaring sentiments which must be already well known , hoping  fearing  adoring  ready to die if she refused him ; but flattering himself that his ardent attachment and unequalled love and unexampled passion could not fail of having some effect , and in short , very much resolved on being seriously accepted as soon as possible .\n",
      "4 Emma smiled and answered \" My visit was of use to the nervous part of her complaint , I hope ; but not even I can charm away a sore throat ; it is a most severe cold indeed .\n",
      "5 A very few minutes more , however , completed the present trial .\n",
      "6 \" I am delighted to hear you speak so stoutly on the subject ,\" replied Emma , smiling ; \" but you do not mean to deny that there was a time  and not very distant either  when you gave me reason to understand that you did care about him ?\"\n",
      "7 \" Very well ; and if he had intended to give her one , he would have told her so .\"\n",
      "8 Some laughed , and answered good - humouredly .\n",
      "9 \" There appeared such a perfectly good understanding among them all \" he began rather quickly , but checking himself , added , \" however , it is impossible for me to say on what terms they really were  how it might all be behind the scenes .\n"
     ]
    }
   ],
   "source": [
    "# Sentence Similarity\n",
    "# Compute similarity between documents with LSA\n",
    "similarity = np.asarray(np.asmatrix(X_train_lsa) * np.asmatrix(X_train_lsa).T)\n",
    "sim_matrix = pd.DataFrame(similarity, index=X_train).iloc[0:10, 0:10]\n",
    "ax = sns.heatmap(sim_matrix, yticklabels=range(10))\n",
    "plt.show()\n",
    "\n",
    "# Creating a key for the plot\n",
    "print('Key:')\n",
    "for i in range(10):\n",
    "    print(i, sim_matrix.index[i])"
   ]
  },
  {
   "cell_type": "code",
   "execution_count": 10,
   "metadata": {},
   "outputs": [
    {
     "name": "stdout",
     "output_type": "stream",
     "text": [
      "Variance captured by new components: 49.37289827084208\n",
      "Component 0\n",
      "\" Oh !       0.999922\n",
      "\" Oh !       0.999922\n",
      "\" Oh !       0.999922\n",
      "\" Oh !       0.999922\n",
      "\" Oh !       0.999922\n",
      "\" Oh !       0.999922\n",
      "\" Oh no !    0.999922\n",
      "\" Oh !       0.999922\n",
      "\" Oh !       0.999922\n",
      "\" Oh !       0.999922\n",
      "Name: 0, dtype: float64\n",
      "Component 1\n",
      "\" Well , Mrs . Weston ,\" said Emma triumphantly when he left them , \" what do you say now to Mr . Knightley ' s marrying Jane Fairfax ?\"                                                                                                                                                                                                                                                                                                             0.614806\n",
      "After tea , Mr . and Mrs . Weston , and Mr . Elton sat down with Mr . Woodhouse to cards .                                                                                                                                                                                                                                                                                                                                                           0.599204\n",
      "Frank turned instantly to Emma , to claim her former promise ; and boasted himself an engaged man , which his father looked his most perfect approbation of  and it then appeared that Mrs . Weston was wanting _him_ to dance with Mrs . Elton himself , and that their business was to help to persuade him into it , which was done pretty soon . Mr . Weston and Mrs . Elton led the way , Mr . Frank Churchill and Miss Woodhouse followed .    0.568559\n",
      "\" Mr .                                                                                                                                                                                                                                                                                                                                                                                                                                               0.520391\n",
      "While she was gone , Mr . Knightley called , and sat some time with Mr . Woodhouse and Emma , till Mr . Woodhouse , who had previously made up his mind to walk out , was persuaded by his daughter not to defer it , and was induced by the entreaties of both , though against the scruples of his own civility , to leave Mr . Knightley for that purpose .                                                                                       0.511589\n",
      "Mr . Weston was musing .                                                                                                                                                                                                                                                                                                                                                                                                                             0.505691\n",
      "\" I think , indeed ,\" said John Knightley pleasantly , \" that Mr . Weston has some little claim .                                                                                                                                                                                                                                                                                                                                                    0.492647\n",
      "\" Mrs . Weston ' s manners ,\" said Emma , \" were always particularly good .                                                                                                                                                                                                                                                                                                                                                                          0.491928\n",
      "\" Why , to be sure ,\" said Mr . Woodhouse \" yes , certainly  I cannot deny that Mrs . Weston , poor Mrs . Weston , does come and see us pretty often  but then  she is always obliged to go away again .\"                                                                                                                                                                                                                                            0.487610\n",
      "\" It is Frank and Miss Fairfax ,\" said Mrs . Weston .                                                                                                                                                                                                                                                                                                                                                                                                0.485199\n",
      "Name: 1, dtype: float64\n",
      "Component 2\n",
      "\" Ah !     0.996962\n",
      "\" Ah !     0.996962\n",
      "\" Ah !     0.996962\n",
      "\" Ah !     0.996962\n",
      "\" Ah !     0.996962\n",
      "\" Ah !\"    0.996962\n",
      "\" Ah !     0.996962\n",
      "\" Ah !     0.996962\n",
      "\" Ah !     0.996962\n",
      "\" Ah !     0.996962\n",
      "Name: 2, dtype: float64\n",
      "Component 3\n",
      "\" Mr .                                                                                                                                                                                                                                                                                                                                                            0.634992\n",
      "After tea , Mr . and Mrs . Weston , and Mr . Elton sat down with Mr . Woodhouse to cards .                                                                                                                                                                                                                                                                        0.563405\n",
      "Mr . Knightley was thoughtful again .                                                                                                                                                                                                                                                                                                                             0.524583\n",
      "\" You are not vain , Mr . Knightley .                                                                                                                                                                                                                                                                                                                             0.509135\n",
      "Mr . Weston was musing .                                                                                                                                                                                                                                                                                                                                          0.500295\n",
      "Mr . Weston ' s own happiness was indisputable .                                                                                                                                                                                                                                                                                                                  0.452944\n",
      "She meant to be very happy , in spite of the scene being laid at Mr . Cole ' s ; and without being able to forget that among the failings of Mr . Elton , even in the days of his favour , none had disturbed her more than his propensity to dine with Mr . Cole .                                                                                               0.406883\n",
      "Harriet , Mr . Elton , and Mr . Knightley , their own especial set , were the only persons invited to meet them ; the hours were to be early , as well as the numbers few ; Mr . Woodhouse ' s habits and inclination being consulted in every thing .                                                                                                            0.401951\n",
      "\" Christmas weather ,\" observed Mr . Elton .                                                                                                                                                                                                                                                                                                                      0.394195\n",
      "While she was gone , Mr . Knightley called , and sat some time with Mr . Woodhouse and Emma , till Mr . Woodhouse , who had previously made up his mind to walk out , was persuaded by his daughter not to defer it , and was induced by the entreaties of both , though against the scruples of his own civility , to leave Mr . Knightley for that purpose .    0.390122\n",
      "Name: 3, dtype: float64\n",
      "Component 4\n",
      "\" Yes , do .\"                                                                   0.653138\n",
      "\" Yes .                                                                         0.653138\n",
      "\" Yes , sometimes he can .\"                                                     0.653138\n",
      "\" Yes I should , I am sure I should .                                           0.639154\n",
      "\" Yes , so I imagined .                                                         0.608849\n",
      "\" Yes  a good deal _nearer_ .\"                                                  0.564214\n",
      "\" Yes ; but we must not rest our claims on that distinction .                   0.556716\n",
      "\" Yes , our good Mrs . Elton .                                                  0.553314\n",
      "\" Yes , she would be , but that she thinks there will be another put - off .    0.543272\n",
      "\" Yes , very soon .                                                             0.533347\n",
      "Name: 4, dtype: float64\n"
     ]
    }
   ],
   "source": [
    "# Drill #0: implement with test data\n",
    "X_test_tfidf_csr = X_test_tfidf.tocsr()\n",
    "nt = X_test_tfidf_csr.shape[0]\n",
    "tfidf_bypara = [{} for _ in range(0,n)]\n",
    "terms = vectorizer.get_feature_names()\n",
    "for i, j in zip(*X_test_tfidf_csr.nonzero()):\n",
    "    tfidf_bypara[i][terms[j]] = X_test_tfidf_csr[i, j]\n",
    "    \n",
    "X_test_lsa = lsa.fit_transform(X_test_tfidf)\n",
    "\n",
    "exp_var = svd.explained_variance_ratio_\n",
    "total_variance = exp_var.sum()\n",
    "print(\"Variance captured by new components: {}\".format(total_variance*100))\n",
    "\n",
    "paras_by_component = pd.DataFrame(X_test_lsa, index=X_test)\n",
    "for i in range(5):\n",
    "    print('Component {}'.format(i))\n",
    "    print(paras_by_component.loc[:,i].sort_values(ascending=False)[0:10])"
   ]
  }
 ],
 "metadata": {
  "kernelspec": {
   "display_name": "Python 3",
   "language": "python",
   "name": "python3"
  },
  "language_info": {
   "codemirror_mode": {
    "name": "ipython",
    "version": 3
   },
   "file_extension": ".py",
   "mimetype": "text/x-python",
   "name": "python",
   "nbconvert_exporter": "python",
   "pygments_lexer": "ipython3",
   "version": "3.7.4"
  }
 },
 "nbformat": 4,
 "nbformat_minor": 2
}
